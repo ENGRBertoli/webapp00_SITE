{
  "nbformat": 4,
  "nbformat_minor": 0,
  "metadata": {
    "colab": {
      "provenance": [],
      "authorship_tag": "ABX9TyNn6VSRAdz0mkmvTfPIb4F0",
      "include_colab_link": true
    },
    "kernelspec": {
      "name": "python3",
      "display_name": "Python 3"
    },
    "language_info": {
      "name": "python"
    }
  },
  "cells": [
    {
      "cell_type": "markdown",
      "metadata": {
        "id": "view-in-github",
        "colab_type": "text"
      },
      "source": [
        "<a href=\"https://colab.research.google.com/github/ENGRBertoli/webapp00_SITE/blob/main/primeiro_site_3.ipynb\" target=\"_parent\"><img src=\"https://colab.research.google.com/assets/colab-badge.svg\" alt=\"Open In Colab\"/></a>"
      ]
    },
    {
      "cell_type": "code",
      "execution_count": null,
      "metadata": {
        "id": "29c2ZNo6BC4n"
      },
      "outputs": [],
      "source": [
        "import streamlit as st\n",
        "import matplotlib.pyplot as plt\n",
        "import pickle\n",
        "import os\n",
        "\n",
        "# Caminho do arquivo para salvar os dados\n",
        "DATA_FILE = \"balancas_data.pkl\"\n",
        "\n",
        "# Função para carregar os dados\n",
        "def carregar_dados():\n",
        "    if os.path.exists(DATA_FILE):\n",
        "        with open(DATA_FILE, \"rb\") as file:\n",
        "            return pickle.load(file)\n",
        "    return []\n",
        "\n",
        "# Função para salvar os dados\n",
        "def salvar_dados(dados):\n",
        "    with open(DATA_FILE, \"wb\") as file:\n",
        "        pickle.dump(dados, file)\n",
        "\n",
        "# Lista para armazenar as balanças (carrega do arquivo)\n",
        "balancas = carregar_dados()\n",
        "\n",
        "# Função para exibir gráfico de barras horizontais\n",
        "def Grafico_Barra_Horizontal(Rotulos, Quantias, Largura=8, Altura=5, Titulo_Grafico='Gráfico de Barra', Titulo_x='Quantidade', Titulo_y='Modelos'):\n",
        "    fig, ax = plt.subplots(figsize=(Largura, Altura))\n",
        "    bars = ax.barh(Rotulos, Quantias, color='skyblue')\n",
        "    ax.set_ylabel(Titulo_y)\n",
        "    ax.set_xlabel(Titulo_x)\n",
        "    ax.set_title(Titulo_Grafico)\n",
        "    for bar, value in zip(bars, Quantias):\n",
        "        ax.text(bar.get_width(), bar.get_y() + bar.get_height() / 2, f'{value}', ha='left', va='center')\n",
        "    st.pyplot(fig)\n",
        "\n",
        "# Função principal do app\n",
        "def main():\n",
        "    st.set_page_config(\n",
        "        page_title=\"Painel de Gestão de Balanças\",\n",
        "        page_icon=\"⚖️\",\n",
        "        layout=\"wide\",\n",
        "        initial_sidebar_state=\"expanded\"\n",
        "    )\n",
        "\n",
        "    st.title(\"Painel de Gestão de Fabricação de Balanças\")\n",
        "\n",
        "    # Menu lateral\n",
        "    menu = st.sidebar.radio(\"Escolha uma opção:\", [\"Adicionar Balança\", \"Listar Balanças\", \"Gráficos\"])\n",
        "\n",
        "    if menu == \"Adicionar Balança\":\n",
        "        st.subheader(\"Adicionar uma nova balança\")\n",
        "        modelo = st.text_input(\"Modelo da balança:\")\n",
        "        quantidade = st.number_input(\"Quantidade:\", min_value=0, step=1)\n",
        "        if st.button(\"Adicionar\"):\n",
        "            nova_balanca = {\"modelo\": modelo, \"quantidade\": quantidade, \"status\": \"Em produção\"}\n",
        "            balancas.append(nova_balanca)\n",
        "            salvar_dados(balancas)  # Salva os dados no arquivo\n",
        "            st.success(f\"Balança '{modelo}' adicionada com quantidade {quantidade}.\")\n",
        "\n",
        "    elif menu == \"Listar Balanças\":\n",
        "        st.subheader(\"Balanças cadastradas\")\n",
        "        if not balancas:\n",
        "            st.warning(\"Nenhuma balança cadastrada.\")\n",
        "        else:\n",
        "            for balanca in balancas:\n",
        "                st.write(f\"**Modelo:** {balanca['modelo']} | **Quantidade:** {balanca['quantidade']} | **Status:** {balanca['status']}\")\n",
        "\n",
        "    elif menu == \"Gráficos\":\n",
        "        st.subheader(\"Gráficos das balanças\")\n",
        "        if not balancas:\n",
        "            st.warning(\"Nenhuma balança cadastrada para exibir nos gráficos.\")\n",
        "        else:\n",
        "            modelos = [b[\"modelo\"] for b in balancas]\n",
        "            quantidades = [b[\"quantidade\"] for b in balancas]\n",
        "            Grafico_Barra_Horizontal(modelos, quantidades, Largura=8, Altura=5, Titulo_Grafico=\"Estoque de Balanças\", Titulo_x=\"Quantidade\", Titulo_y=\"Modelos\")\n",
        "\n",
        "if __name__ == \"__main__\":\n",
        "    main()\n"
      ]
    }
  ]
}